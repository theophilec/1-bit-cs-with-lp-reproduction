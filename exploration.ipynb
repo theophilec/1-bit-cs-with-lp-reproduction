{
 "cells": [
  {
   "cell_type": "code",
   "execution_count": 1,
   "metadata": {},
   "outputs": [],
   "source": [
    "import cvxpy as cp\n",
    "import matplotlib.pyplot as plt\n",
    "import numpy as np"
   ]
  },
  {
   "cell_type": "code",
   "execution_count": 2,
   "metadata": {},
   "outputs": [],
   "source": [
    "# Parameters\n",
    "\n",
    "n = 1000\n",
    "s = 10\n",
    "\n",
    "m = 250"
   ]
  },
  {
   "cell_type": "code",
   "execution_count": 3,
   "metadata": {},
   "outputs": [],
   "source": [
    "# Generate (effectively) sparse vector x_0\n",
    "\n",
    "def generate_sparse_randn(n, s):\n",
    "    x = np.zeros(n)\n",
    "    # select components\n",
    "    I = np.random.randint(0, n, s)\n",
    "    x[I] = np.random.randn(s)\n",
    "    return x\n",
    "\n",
    "def generate_sparse(n, s):\n",
    "    x = np.zeros(n)\n",
    "    # select components\n",
    "    I = np.random.randint(0, n, s)\n",
    "    x[I] = 1\n",
    "    return x"
   ]
  },
  {
   "cell_type": "code",
   "execution_count": 4,
   "metadata": {},
   "outputs": [],
   "source": [
    "x_0 = generate_sparse_randn(n, s)\n",
    "# x_0 = generate_sparse(n, s)"
   ]
  },
  {
   "cell_type": "code",
   "execution_count": 5,
   "metadata": {},
   "outputs": [],
   "source": [
    "# Generate sensing matrix\n",
    "\n",
    "A = np.random.randn(m, n)"
   ]
  },
  {
   "cell_type": "code",
   "execution_count": 6,
   "metadata": {},
   "outputs": [],
   "source": [
    "# Compute y\n",
    "def sign(v):\n",
    "    return np.where(v < 0, -1.0, 1.0)\n",
    "\n",
    "y = sign(A.dot(x_0))"
   ]
  },
  {
   "cell_type": "code",
   "execution_count": 7,
   "metadata": {},
   "outputs": [],
   "source": [
    "def reconstruct_1bit(y, A):\n",
    "    \"\"\"\n",
    "    Solve the modified basis pursuit problem by Plan and Vershynin.\n",
    "\n",
    "    Solves the linear program\n",
    "\n",
    "        min ||x||_1\n",
    "        s.t. sign(Ax) = y\n",
    "         and ||Ax||_1 = m\n",
    "\n",
    "    Using dummy variables for ||x||_1, can be removed since cvxpy handles\n",
    "    them.\n",
    "\n",
    "    Args:\n",
    "        y: (m,) ndarray\n",
    "        A: (m, n) ndarray\n",
    "    \"\"\"\n",
    "    m, n = A.shape\n",
    "    x = cp.Variable(shape=n)\n",
    "    u = cp.Variable(shape=n)\n",
    "\n",
    "    constraints = []\n",
    "    # - u_i <= x_i <= u_i\n",
    "    for i in range(n):\n",
    "        constraints += [\n",
    "            u[i] >= 0,\n",
    "            x[i] >= -u[i],\n",
    "            x[i] <= u[i],\n",
    "        ]\n",
    "\n",
    "    # y_i*<a_i, x> >= 0\n",
    "    for i in range(m):\n",
    "        constraints += [\n",
    "            y[i] * cp.sum(cp.multiply(A[i], x)) >= 0,\n",
    "        ]\n",
    "\n",
    "    # 1/m sum() >= 1\n",
    "    constraints.append(cp.sum(cp.multiply(y, A @ x)) / m >= 1)\n",
    "\n",
    "    objective = cp.Minimize(cp.sum(u))\n",
    "    prob = cp.Problem(objective, constraints)\n",
    "    prob.solve()\n",
    "\n",
    "    return x.value"
   ]
  },
  {
   "cell_type": "code",
   "execution_count": 8,
   "metadata": {},
   "outputs": [],
   "source": [
    "def reconstruct(y, A):\n",
    "    \"\"\" \n",
    "    Solve the Basis pursuit problem with cvxpy.\n",
    "    \n",
    "    Solves the linear program\n",
    "    \n",
    "        min ||x||_1\n",
    "        s.t. A @ x = y\n",
    "    \n",
    "    Args:\n",
    "        y: (m,) ndarray\n",
    "        A: (m, n) ndarray\n",
    "    \"\"\"\n",
    "    m, n = A.shape\n",
    "    x = cp.Variable(shape=n)\n",
    "    \n",
    "    constraints = [A @ x == y, ]\n",
    "\n",
    "    objective = cp.Minimize(cp.norm1(x))\n",
    "    prob = cp.Problem(objective, constraints)\n",
    "    prob.solve()\n",
    "    \n",
    "    return x.value"
   ]
  },
  {
   "cell_type": "code",
   "execution_count": 9,
   "metadata": {},
   "outputs": [],
   "source": [
    "xx = reconstruct_1bit(y, A)"
   ]
  },
  {
   "cell_type": "code",
   "execution_count": 10,
   "metadata": {},
   "outputs": [],
   "source": [
    "xx_cs = reconstruct(y, A)"
   ]
  },
  {
   "cell_type": "code",
   "execution_count": 11,
   "metadata": {},
   "outputs": [
    {
     "data": {
      "image/png": "[encoded data removed]",
      "text/plain": [
       "<Figure size 432x288 with 1 Axes>"
      ]
     },
     "metadata": {
      "needs_background": "light"
     },
     "output_type": "display_data"
    }
   ],
   "source": [
    "plt.scatter(np.arange(n), x_0 / np.linalg.norm(x_0), alpha=0.5, label=\"True signal\")\n",
    "plt.scatter(np.arange(n), xx / np.linalg.norm(xx), alpha=0.5, label=\"Reconstruction 1-bit\")\n",
    "plt.scatter(np.arange(n), xx_cs / np.linalg.norm(xx_cs), alpha=0.5, label=\"Reconstruction CS\")\n",
    "plt.legend()\n",
    "plt.show()"
   ]
  }
 ],
 "metadata": {
  "kernelspec": {
   "display_name": "Python 3",
   "language": "python",
   "name": "python3"
  },
  "language_info": {
   "codemirror_mode": {
    "name": "ipython",
    "version": 3
   },
   "file_extension": ".py",
   "mimetype": "text/x-python",
   "name": "python",
   "nbconvert_exporter": "python",
   "pygments_lexer": "ipython3",
   "version": "3.7.5"
  }
 },
 "nbformat": 4,
 "nbformat_minor": 4
}
